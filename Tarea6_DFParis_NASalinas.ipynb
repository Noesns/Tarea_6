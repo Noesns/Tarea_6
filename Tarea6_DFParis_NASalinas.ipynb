{
 "cells": [
  {
   "cell_type": "markdown",
   "metadata": {},
   "source": [
    "<img style=\"float: left; margin: 30px 15px 15px 15px;\" src=\"https://pngimage.net/wp-content/uploads/2018/06/logo-iteso-png-5.png\" width=\"300\" height=\"500\" /> \n",
    "    \n",
    "    \n",
    "### <font color='navy'> Simulación de procesos financieros. \n",
    "\n",
    "**Nombres:** Douglas Fabian Paris Merin & Noe Alejando Salinas Gandara.\n",
    "\n",
    "**Fecha:** 03 de marzo del 2020.\n",
    "\n",
    "**Expediente** : 714977 & 714748.\n",
    "**Profesor:** Oscar David Jaramillo Zuluaga.\n",
    "\n",
    "# Tarea 6: Clase10 MetodoAceptacionRechazo"
   ]
  },
  {
   "cell_type": "markdown",
   "metadata": {},
   "source": [
    "## Resolver los siguientes problemas:"
   ]
  },
  {
   "cell_type": "markdown",
   "metadata": {},
   "source": [
    "### Ejercicio 1: \n",
    ">Seguir un procedimiento similar al mostrado cuando se generó una distribución binomial, pero en esta caso genere un código que genere variables aletorias Poisson cuya función de distribución de probabilidad esta dada por:\n",
    ">$$P(k,\\lambda)=\\frac{e^{-\\lambda}(\\lambda)^k}{k!}$$\n",
    "    \n",
    "> Demuestre matemáticamente que \n",
    "> $$P(k+1)=\\frac{\\lambda}{k+1}P(k)$$\n",
    "> y a partir de esta relación genere variables aletorias que distribuyen poisson usando el método de la transformada inversa.\n"
   ]
  },
  {
   "cell_type": "markdown",
   "metadata": {},
   "source": [
    "#### Código de solución \n",
    "Para facilitar la demostracion, pasare diviendo el $P_{(k)}$ de forma que nos queda \n"
   ]
  },
  {
   "cell_type": "markdown",
   "metadata": {},
   "source": [
    "\\begin{equation*}\n",
    "\\begin{aligned}\n",
    "\\frac{P_{k+1}}{P_{k}} &= \\frac{\\lambda}{k+1} \\\\\n",
    "\\newline\n",
    "P_{k+1} &= \\frac{\\lambda^{k+1} ~ e^{-\\lambda}}{k+1!}\\\\\n",
    "\\newline\n",
    "P_k &= \\frac{\\lambda^k e^{-\\lambda}}{k!}\\\\\n",
    "\\newline\n",
    "\\frac{P_{k+1}}{P_k} &= \\frac{\\frac{e^{-\\lambda}\\lambda^{k+1}}{k+1!}}{\\frac{e^{-\\lambda}\\lambda^k}{k!}}\\\\\n",
    "\\newline\n",
    "&= \\frac{k!~\\underline{e^{-\\lambda}}{\\lambda^{k}+1}}{k+1!~\\underline{e^{-\\lambda}}\\lambda^k}\\\\\n",
    "\\newline\n",
    "&= \\frac{k!~\\underline{\\lambda^{k+1}}}{k+1!~\\underline{\\lambda^k}}\\\\\n",
    "\\newline\n",
    "&= \\frac{k!~\\lambda}{k+1!}\\\\\n",
    "\\newline\n",
    "&= \\frac{\\underline{k!}~\\lambda}{(k+1) \\underline{k!}}\\\\\n",
    "\\newline\n",
    "&= \\frac{~\\lambda}{(k+1)} = \\frac{P_{k+1}}{P_{k}}\n",
    "\\end{aligned}\n",
    "\\end{equation*}"
   ]
  },
  {
   "cell_type": "code",
   "execution_count": 1,
   "metadata": {},
   "outputs": [],
   "source": [
    "# Librería de optimización \n",
    "from scipy import optimize\n",
    "from scipy.stats import beta\n",
    "import matplotlib.pyplot as plt\n",
    "import numpy as np\n",
    "# %matplotlib notebook\n",
    "%matplotlib inline\n",
    "\n",
    "def Gen_distr_discreta(U:'vector de números aleatorios',\n",
    "                       p_acum: 'P.Acumulada de la distribución a generar'):\n",
    "    '''Tener en cuenta que este arreglo cuenta números empezando del 0'''\n",
    "    v = np.array(list(map(lambda j:sum(1 for i in p_acum if i<U[j]),range(N))))\n",
    "    return v\n",
    "\n",
    "def plot_histogram_discrete(distribucion:'señal de varibles aleatorias de un distribución DISCRETA dada',\n",
    "                            label:'label del legend a aparecer en el gráfica',\n",
    "                            densidad:'por defecto regresa el histograma en densidad'= True):\n",
    "    # len(set(distribucion)) cuenta la cantidad de elementos distintos de la variable 'distribucion'\n",
    "    plt.figure(figsize=[8,4])\n",
    "    y,x = np.histogram(distribucion,bins = len(set(distribucion)),density = densidad) \n",
    "    plt.bar(x[1:],y,label=label)\n",
    "#     print(len(y),len(x))\n",
    "    plt.legend()\n",
    "    plt.show()\n",
    "    \n",
    "# Función que calcula la probabilidad acumulada optimizada\n",
    "def P_acum_posson_o(k,lamb):\n",
    "    Pr = np.zeros(k)\n",
    "    Pr[0] = np.exp(-lamb)\n",
    "    def pr(i):\n",
    "        nonlocal Pr\n",
    "        c  = lamb/(i+1)\n",
    "        Pr[i+1]=c*Pr[i]\n",
    "        \n",
    "    # Lleno el vector Pr usando compresión de listas\n",
    "    [pr(i) for i in range(k-1)]\n",
    "    return np.cumsum(Pr)\n"
   ]
  },
  {
   "cell_type": "code",
   "execution_count": 2,
   "metadata": {},
   "outputs": [
    {
     "data": {
      "image/png": "[encoded data removed]",
      "text/plain": [
       "<Figure size 576x288 with 1 Axes>"
      ]
     },
     "metadata": {
      "needs_background": "light"
     },
     "output_type": "display_data"
    },
    {
     "data": {
      "image/png": "[encoded data removed]",
      "text/plain": [
       "<Figure size 576x288 with 1 Axes>"
      ]
     },
     "metadata": {
      "needs_background": "light"
     },
     "output_type": "display_data"
    }
   ],
   "source": [
    "# def D_binomial_intermedia(n,p,N):\n",
    "k = 10000; lamb = 5; N = 10**4\n",
    "\n",
    "p_acum = P_acum_posson_o(k,lamb)\n",
    "u = np.random.rand(N)\n",
    "\n",
    "# Usando el método de la ecuacion recursiva\n",
    "d_binomial = Gen_distr_discreta(u,p_acum)\n",
    "plot_histogram_discrete(d_binomial,'usando función creada')\n",
    "\n",
    "# Usando numpy\n",
    "d_bino_numpy = np.random.poisson(lamb,N)\n",
    "plot_histogram_discrete(d_bino_numpy,'usando numpy')"
   ]
  },
  {
   "cell_type": "markdown",
   "metadata": {},
   "source": [
    "## Ejercicio 2\n",
    "Partiendo que se desea generar variables aleatorias para la siguiente función de densidad\n",
    "$$f(x)=30(x^2-2x^3+x^4)$$\n",
    "Responda los siguientes literales:\n",
    "1. Usar como función que mayora a $f(x)$ a $t(x)=a \\sin(\\pi x)$ donde a es el máximo de la función $f(x)$ y graficarlas en una misma gráfica, para validar que en realidad si cumple la condición $t(x)\\geq f(x)$.\n",
    "2. Encontrar la función de densidad $g(x)$ según lo visto en clase. Reportar todos los cálculos realizados para encontrar dicha función usando Markdown (Latex).\n",
    "3. Usar la función encontrada en el punto 2 y utilizar el método de la transformada inversa visto en la clase 9, para generar variables aleatorias que sigan la distribución $g(x)$. **Nota:** Recuerde que el método de la transformada inversa funciona con la distribución de probabilidad acumulada y no con su densidad. Nuevamente similar al punto anterior reportar todos los cálculos usando Markdown (Latex). \n",
    "4. Según el punto 3, generar 10000 puntos aleatorios que sigan la distribución $g(x)$ y comparar con su histograma para validar que los puntos generados siguen la distribución deseada."
   ]
  },
  {
   "cell_type": "code",
   "execution_count": null,
   "metadata": {},
   "outputs": [],
   "source": []
  }
 ],
 "metadata": {
  "kernelspec": {
   "display_name": "Python 3",
   "language": "python",
   "name": "python3"
  },
  "language_info": {
   "codemirror_mode": {
    "name": "ipython",
    "version": 3
   },
   "file_extension": ".py",
   "mimetype": "text/x-python",
   "name": "python",
   "nbconvert_exporter": "python",
   "pygments_lexer": "ipython3",
   "version": "3.7.4"
  }
 },
 "nbformat": 4,
 "nbformat_minor": 2
}
